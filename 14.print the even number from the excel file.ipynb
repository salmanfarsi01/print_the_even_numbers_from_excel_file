{
 "cells": [
  {
   "cell_type": "code",
   "execution_count": 1,
   "id": "73f98c49-e01e-4b91-9b71-a80bda3aad18",
   "metadata": {},
   "outputs": [
    {
     "name": "stdout",
     "output_type": "stream",
     "text": [
      "Even numbers from the Excel sheet:\n",
      "2\n",
      "4\n",
      "0\n"
     ]
    }
   ],
   "source": [
    "import openpyxl\n",
    "\n",
    "# Load the existing Excel workbook\n",
    "wb = openpyxl.load_workbook(\"user_input_values.xlsx\")\n",
    "sheet = wb.active\n",
    "\n",
    "# Iterate through the rows and print even numbers\n",
    "print(\"Even numbers from the Excel sheet:\")\n",
    "# Iterate through the rows of the sheet, considering only the first column\n",
    "for row in sheet.iter_rows(min_row=1, max_col=1, values_only=True):\n",
    "    # 'row' is a tuple that contains the values of each cell in the row\n",
    "    # Here, since we're only reading one column, 'row' will be a tuple with a single element\n",
    "    value = row[0]  # Extract the value from the first element of the tuple (the first column)\n",
    "    \n",
    "    # Check if the value is an even number\n",
    "    if value % 2 == 0:\n",
    "        # If the value is even (remainder is 0 when divided by 2), print the value\n",
    "        print(value)\n"
   ]
  },
  {
   "cell_type": "code",
   "execution_count": null,
   "id": "df8d83cb-36ea-4540-8d1c-acbc4c2a662c",
   "metadata": {},
   "outputs": [],
   "source": []
  }
 ],
 "metadata": {
  "kernelspec": {
   "display_name": "ML-KERNEL",
   "language": "python",
   "name": "ml-kernel"
  },
  "language_info": {
   "codemirror_mode": {
    "name": "ipython",
    "version": 3
   },
   "file_extension": ".py",
   "mimetype": "text/x-python",
   "name": "python",
   "nbconvert_exporter": "python",
   "pygments_lexer": "ipython3",
   "version": "3.12.4"
  }
 },
 "nbformat": 4,
 "nbformat_minor": 5
}
